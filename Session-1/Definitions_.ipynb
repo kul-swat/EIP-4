{
  "nbformat": 4,
  "nbformat_minor": 0,
  "metadata": {
    "colab": {
      "name": "Definitions .ipynb",
      "provenance": [],
      "collapsed_sections": [],
      "include_colab_link": true
    },
    "kernelspec": {
      "name": "python3",
      "display_name": "Python 3"
    }
  },
  "cells": [
    {
      "cell_type": "markdown",
      "metadata": {
        "id": "view-in-github",
        "colab_type": "text"
      },
      "source": [
        "<a href=\"https://colab.research.google.com/github/kul-swat/EIP-4/blob/master/Session-1/Definitions_.ipynb\" target=\"_parent\"><img src=\"https://colab.research.google.com/assets/colab-badge.svg\" alt=\"Open In Colab\"/></a>"
      ]
    },
    {
      "cell_type": "markdown",
      "metadata": {
        "id": "zucoKMr2ICMo",
        "colab_type": "text"
      },
      "source": [
        "**Convolution**- Combination of input data with Kernel to produce output of a single layer. It contributes on reading the input data set.\n",
        "\n",
        "**Kernel/ Filter**- It is a random 3*3 matrix values, which convolutes with input data to produce output. The channel number of kernel depends on channel number of output of earlier layer.\n",
        "\n",
        "**Epoch**- The number of times the layer is to be trained, to give higher perfomance but the data shouldn't be overfitting\n",
        "\n",
        "**1x1 matrix**- It is the matrix which is to be taken, to extract the bold feature from input layer. Dimension of matrix depend on the output of max pooling.\n",
        "\n",
        "**3x3 matrix**- It is also called filter matrix used to filter the input data to produce output data of 1 layer. Number of Kernel depends on number of channel of output of earlier layer\n",
        "\n",
        "**Activation Function**- It is a function used to giv the output. Relu Activation function is used as it convert negative values to 1 so eliminates the negative values in predicting output.\n",
        "\n",
        "**Feature Map**- It is also called Channel. All similar quantity is kept under Channel. Example as 'E-Extractor' would extract only 'E' from a sentence.\n",
        "\n",
        "**Receptive Field**- It is set of pixels in input image which is responsible for creating one pixel in the output image.\n",
        "\n"
      ]
    }
  ]
}